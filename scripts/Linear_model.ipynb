{
 "cells": [
  {
   "cell_type": "code",
   "execution_count": 83,
   "metadata": {
    "collapsed": true
   },
   "outputs": [],
   "source": [
    "import pandas as pd\n",
    "import statsmodels.formula.api as sm\n",
    "import statsmodels.stats.api as sms\n",
    "import matplotlib.pyplot as plt\n",
    "%matplotlib inline\n",
    "import matplotlib.pylab as pylab\n",
    "import numpy as np\n",
    "pd.set_option('display.max_columns', 500)\n",
    "from statsmodels.sandbox.regression.predstd import wls_prediction_std\n",
    "from sklearn.cross_validation import train_test_split\n",
    "from sklearn.metrics import mean_absolute_error, r2_score"
   ]
  },
  {
   "cell_type": "markdown",
   "metadata": {},
   "source": [
    "After exploring of basic variables, good start is to build linear moder in order to understand how good or bad we can forecast car price based on few obvious factors. Than it would be useful to compare results of various machine learning techniques with simple linear model forecast."
   ]
  },
  {
   "cell_type": "code",
   "execution_count": 84,
   "metadata": {
    "collapsed": true
   },
   "outputs": [],
   "source": [
    "dt_path = 'C:/Users/Vasiliy Poteriaev/Documents/GitHub/processed data/auto_matrix_2016-04-13.pickle'\n",
    "dt = pd.read_pickle(dt_path)\n",
    "#remove bulletproof expensive cars\n",
    "dt = dt[dt['Price_rub'] < 4 * 10 ** 6]\n",
    "#obviously warranty end should be 0 for 8 years old  car\n",
    "dt.loc[dt['Warranty_end'] > 6, 'Warranty_end'] = 0"
   ]
  },
  {
   "cell_type": "markdown",
   "metadata": {},
   "source": [
    "# regression approach"
   ]
  },
  {
   "cell_type": "code",
   "execution_count": 85,
   "metadata": {
    "collapsed": true
   },
   "outputs": [],
   "source": [
    "#generate dummy for no warranty\n",
    "dt['no_warranty'] = dt['Warranty_end'] == 0\n",
    "dt['person_seller'] = dt['Seller'] == 'person'"
   ]
  },
  {
   "cell_type": "code",
   "execution_count": 86,
   "metadata": {
    "collapsed": false
   },
   "outputs": [
    {
     "data": {
      "text/plain": [
       "Nissan Teana II       537\n",
       "Toyota Camry VII      513\n",
       "Ford Mondeo IV        510\n",
       "Mazda 6 II            385\n",
       "Mazda 6 I             352\n",
       "Audi A6 III           348\n",
       "BMW 5er VI            347\n",
       "Toyota Camry VI       306\n",
       "Honda Accord VII      277\n",
       "Hyundai Sonata IV     277\n",
       "Audi A6 IV            269\n",
       "Honda Accord VIII     268\n",
       "Volvo S60 I           263\n",
       "Opel Insignia I       261\n",
       "BMW 5er V             246\n",
       "Audi A6 II            244\n",
       "BMW 5er IV            222\n",
       "Ford Mondeo III       208\n",
       "Mazda 6 III           170\n",
       "Nissan Teana I        169\n",
       "Kia Optima III        168\n",
       "Infiniti G IV         153\n",
       "Hyundai i40 I         147\n",
       "Volvo S60 II          144\n",
       "Nissan Teana III      127\n",
       "Ford Mondeo V         104\n",
       "BMW 5er III            96\n",
       "Hyundai Sonata V       79\n",
       "Hyundai Sonata VI      67\n",
       "Toyota Camry V         64\n",
       "Ford Mondeo II         58\n",
       "Audi A6 I              52\n",
       "Honda Accord V         40\n",
       "Honda Accord VI        38\n",
       "Kia Optima IV          37\n",
       "Honda Accord IX        32\n",
       "Ford Mondeo I          30\n",
       "Infiniti G III         20\n",
       "Hyundai Sonata III     20\n",
       "Toyota Camry IV        17\n",
       "Toyota Camry III       14\n",
       "Honda Accord IV        12\n",
       "Kia Optima I            5\n",
       "Toyota Camry II         2\n",
       "BMW 5er II              2\n",
       "Infiniti G II           2\n",
       "Hyundai Sonata II       1\n",
       "Honda Accord I          1\n",
       "Infiniti G I            1\n",
       "Name: CarName, dtype: int64"
      ]
     },
     "execution_count": 86,
     "metadata": {},
     "output_type": "execute_result"
    }
   ],
   "source": [
    "dt['CarName'].value_counts()"
   ]
  },
  {
   "cell_type": "code",
   "execution_count": null,
   "metadata": {
    "collapsed": true
   },
   "outputs": [],
   "source": [
    "#remove small car classes from analysis. It's old, rare and would only alter model results\n",
    "dt = dt[~dt['CarName'].isin(['Kia Optima I','Toyota Camry II','BMW 5er II','Hyundai Sonata II',\n",
    "                             'Honda Accord I','Infiniti G I','Infiniti G II'])]"
   ]
  },
  {
   "cell_type": "code",
   "execution_count": 88,
   "metadata": {
    "collapsed": true
   },
   "outputs": [],
   "source": [
    "#saving feature matrix for other algorithms\n",
    "dt.to_pickle('C:/Users/Vasiliy Poteriaev/Documents/GitHub/processed data/dt.pickle')"
   ]
  },
  {
   "cell_type": "markdown",
   "metadata": {},
   "source": [
    "Before estimating model we should split data into train and test set in order to get out of sample forecast"
   ]
  },
  {
   "cell_type": "code",
   "execution_count": 58,
   "metadata": {
    "collapsed": false
   },
   "outputs": [],
   "source": [
    "dt_train, dt_test = train_test_split(dt,test_size=0.2, random_state=777, stratify = dt['CarName'])"
   ]
  },
  {
   "cell_type": "code",
   "execution_count": 59,
   "metadata": {
    "collapsed": false
   },
   "outputs": [],
   "source": [
    "mod1_formula = 'np.log(Price_rub) ~ CarName + Car_age + run_km + np.log(Engine_capacity) + np.log(Engine_hp) + ' + \\\n",
    "'Advertising_num_days + np.log(Views) + np.log(Last_owner_time_years + 1) + np.log(Warranty_end + 1) + no_warranty +' + \\\n",
    "'Gear_box + Owners_N'\n",
    "\n",
    "mod2_formula = 'np.log(Price_rub) ~ CarName + Car_age + run_km + np.log(Engine_capacity) + np.log(Engine_hp) + ' + \\\n",
    "'Advertising_num_days + np.log(Views) + np.log(Last_owner_time_years + 1) + np.log(Warranty_end + 1) + no_warranty +' + \\\n",
    "'Gear_box + Owners_N + Body_type + Swap_type + Original_car_passport + Wheel_drive_type + Left_steering +' + \\\n",
    "'is_metallic_color+person_seller + Engine_fuel_type'"
   ]
  },
  {
   "cell_type": "code",
   "execution_count": 60,
   "metadata": {
    "collapsed": false
   },
   "outputs": [
    {
     "name": "stdout",
     "output_type": "stream",
     "text": [
      "                            OLS Regression Results                            \n",
      "==============================================================================\n",
      "Dep. Variable:      np.log(Price_rub)   R-squared:                       0.951\n",
      "Model:                            OLS   Adj. R-squared:                  0.951\n",
      "Method:                 Least Squares   F-statistic:                     2115.\n",
      "Date:                Sun, 17 Apr 2016   Prob (F-statistic):               0.00\n",
      "Time:                        11:11:08   Log-Likelihood:                 3043.3\n",
      "No. Observations:                6154   AIC:                            -5973.\n",
      "Df Residuals:                    6097   BIC:                            -5589.\n",
      "Df Model:                          56                                         \n",
      "Covariance Type:            nonrobust                                         \n",
      "====================================================================================================================\n",
      "                                                       coef    std err          t      P>|t|      [95.0% Conf. Int.]\n",
      "--------------------------------------------------------------------------------------------------------------------\n",
      "Intercept                                           13.6058      0.098    139.281      0.000        13.414    13.797\n",
      "CarName[T.Audi A6 II]                               -0.0698      0.026     -2.669      0.008        -0.121    -0.019\n",
      "CarName[T.Audi A6 III]                               0.0679      0.029      2.318      0.020         0.010     0.125\n",
      "CarName[T.Audi A6 IV]                                0.4665      0.034     13.618      0.000         0.399     0.534\n",
      "CarName[T.BMW 5er III]                               0.0328      0.029      1.117      0.264        -0.025     0.090\n",
      "CarName[T.BMW 5er IV]                                0.0573      0.026      2.182      0.029         0.006     0.109\n",
      "CarName[T.BMW 5er V]                                 0.1728      0.029      5.925      0.000         0.116     0.230\n",
      "CarName[T.BMW 5er VI]                                0.5431      0.033     16.488      0.000         0.479     0.608\n",
      "CarName[T.Ford Mondeo I]                            -0.8688      0.038    -22.612      0.000        -0.944    -0.793\n",
      "CarName[T.Ford Mondeo II]                           -0.7280      0.032    -22.713      0.000        -0.791    -0.665\n",
      "CarName[T.Ford Mondeo III]                          -0.4800      0.028    -17.230      0.000        -0.535    -0.425\n",
      "CarName[T.Ford Mondeo IV]                           -0.2766      0.030     -9.305      0.000        -0.335    -0.218\n",
      "CarName[T.Ford Mondeo V]                             0.1173      0.037      3.166      0.002         0.045     0.190\n",
      "CarName[T.Honda Accord IV]                          -0.6443      0.053    -12.259      0.000        -0.747    -0.541\n",
      "CarName[T.Honda Accord IX]                           0.1533      0.043      3.581      0.000         0.069     0.237\n",
      "CarName[T.Honda Accord V]                           -0.4255      0.035    -12.120      0.000        -0.494    -0.357\n",
      "CarName[T.Honda Accord VI]                          -0.1894      0.036     -5.250      0.000        -0.260    -0.119\n",
      "CarName[T.Honda Accord VII]                         -0.0895      0.028     -3.145      0.002        -0.145    -0.034\n",
      "CarName[T.Honda Accord VIII]                         0.0564      0.031      1.845      0.065        -0.004     0.116\n",
      "CarName[T.Hyundai Sonata III]                       -0.7680      0.044    -17.514      0.000        -0.854    -0.682\n",
      "CarName[T.Hyundai Sonata IV]                        -0.6182      0.028    -22.129      0.000        -0.673    -0.563\n",
      "CarName[T.Hyundai Sonata V]                         -0.2883      0.033     -8.786      0.000        -0.353    -0.224\n",
      "CarName[T.Hyundai Sonata VI]                        -0.0612      0.036     -1.711      0.087        -0.131     0.009\n",
      "CarName[T.Hyundai i40 I]                            -0.1030      0.034     -2.990      0.003        -0.171    -0.035\n",
      "CarName[T.Infiniti G III]                            0.0134      0.046      0.293      0.769        -0.076     0.103\n",
      "CarName[T.Infiniti G IV]                             0.1172      0.033      3.567      0.000         0.053     0.182\n",
      "CarName[T.Kia Optima III]                           -0.0103      0.034     -0.305      0.760        -0.077     0.056\n",
      "CarName[T.Kia Optima IV]                             0.1213      0.043      2.794      0.005         0.036     0.206\n",
      "CarName[T.Mazda 6 I]                                -0.3885      0.027    -14.237      0.000        -0.442    -0.335\n",
      "CarName[T.Mazda 6 II]                               -0.1330      0.029     -4.509      0.000        -0.191    -0.075\n",
      "CarName[T.Mazda 6 III]                               0.0921      0.034      2.684      0.007         0.025     0.159\n",
      "CarName[T.Nissan Teana I]                           -0.2943      0.030     -9.849      0.000        -0.353    -0.236\n",
      "CarName[T.Nissan Teana II]                          -0.0978      0.032     -3.068      0.002        -0.160    -0.035\n",
      "CarName[T.Nissan Teana III]                          0.0485      0.037      1.304      0.192        -0.024     0.121\n",
      "CarName[T.Opel Insignia I]                          -0.0509      0.033     -1.562      0.118        -0.115     0.013\n",
      "CarName[T.Toyota Camry III]                         -0.3432      0.050     -6.805      0.000        -0.442    -0.244\n",
      "CarName[T.Toyota Camry IV]                          -0.2794      0.046     -6.073      0.000        -0.370    -0.189\n",
      "CarName[T.Toyota Camry V]                           -0.0186      0.032     -0.575      0.566        -0.082     0.045\n",
      "CarName[T.Toyota Camry VI]                           0.0031      0.030      0.104      0.917        -0.055     0.061\n",
      "CarName[T.Toyota Camry VII]                          0.0683      0.033      2.068      0.039         0.004     0.133\n",
      "CarName[T.Volvo S60 I]                              -0.2351      0.028     -8.327      0.000        -0.290    -0.180\n",
      "CarName[T.Volvo S60 II]                              0.0574      0.034      1.690      0.091        -0.009     0.124\n",
      "no_warranty[T.True]                                 -0.0712      0.018     -4.053      0.000        -0.106    -0.037\n",
      "Gear_box[T.Вариатор]                                -0.0460      0.012     -3.892      0.000        -0.069    -0.023\n",
      "Gear_box[T.Механическая]                            -0.0447      0.006     -7.274      0.000        -0.057    -0.033\n",
      "Gear_box[T.Роботизированная с двумя сцеплениями]     0.0518      0.015      3.556      0.000         0.023     0.080\n",
      "Owners_N[T.2]                                        0.0045      0.005      0.846      0.398        -0.006     0.015\n",
      "Owners_N[T.3]                                       -0.0073      0.007     -1.081      0.280        -0.021     0.006\n",
      "Owners_N[T.not mentioned]                            0.0133      0.005      2.523      0.012         0.003     0.024\n",
      "Car_age                                             -0.0845      0.001    -63.737      0.000        -0.087    -0.082\n",
      "run_km                                            -3.03e-07   4.17e-08     -7.272      0.000     -3.85e-07 -2.21e-07\n",
      "np.log(Engine_capacity)                              0.1084      0.024      4.608      0.000         0.062     0.155\n",
      "np.log(Engine_hp)                                    0.1531      0.021      7.340      0.000         0.112     0.194\n",
      "Advertising_num_days                                 0.0004   3.49e-05     10.504      0.000         0.000     0.000\n",
      "np.log(Views)                                       -0.0323      0.001    -32.247      0.000        -0.034    -0.030\n",
      "np.log(Last_owner_time_years + 1)                   -0.0205      0.006     -3.419      0.001        -0.032    -0.009\n",
      "np.log(Warranty_end + 1)                             0.0245      0.018      1.363      0.173        -0.011     0.060\n",
      "==============================================================================\n",
      "Omnibus:                      956.916   Durbin-Watson:                   2.031\n",
      "Prob(Omnibus):                  0.000   Jarque-Bera (JB):            13695.422\n",
      "Skew:                          -0.257   Prob(JB):                         0.00\n",
      "Kurtosis:                      10.290   Cond. No.                     1.31e+07\n",
      "==============================================================================\n",
      "\n",
      "Warnings:\n",
      "[1] Standard Errors assume that the covariance matrix of the errors is correctly specified.\n",
      "[2] The condition number is large, 1.31e+07. This might indicate that there are\n",
      "strong multicollinearity or other numerical problems.\n"
     ]
    }
   ],
   "source": [
    "mod1 = sm.ols(formula = mod1_formula, data = dt_train)\n",
    "mod1_res = mod1.fit()\n",
    "print(mod1_res.summary())"
   ]
  },
  {
   "cell_type": "code",
   "execution_count": 61,
   "metadata": {
    "collapsed": false
   },
   "outputs": [
    {
     "name": "stdout",
     "output_type": "stream",
     "text": [
      "                            OLS Regression Results                            \n",
      "==============================================================================\n",
      "Dep. Variable:      np.log(Price_rub)   R-squared:                       0.956\n",
      "Model:                            OLS   Adj. R-squared:                  0.955\n",
      "Method:                 Least Squares   F-statistic:                     1732.\n",
      "Date:                Sun, 17 Apr 2016   Prob (F-statistic):               0.00\n",
      "Time:                        11:11:11   Log-Likelihood:                 3362.9\n",
      "No. Observations:                6154   AIC:                            -6572.\n",
      "Df Residuals:                    6077   BIC:                            -6054.\n",
      "Df Model:                          76                                         \n",
      "Covariance Type:            nonrobust                                         \n",
      "====================================================================================================================\n",
      "                                                       coef    std err          t      P>|t|      [95.0% Conf. Int.]\n",
      "--------------------------------------------------------------------------------------------------------------------\n",
      "Intercept                                           13.7499      0.176     78.194      0.000        13.405    14.095\n",
      "CarName[T.Audi A6 II]                               -0.1087      0.025     -4.326      0.000        -0.158    -0.059\n",
      "CarName[T.Audi A6 III]                               0.0061      0.028      0.215      0.830        -0.050     0.062\n",
      "CarName[T.Audi A6 IV]                                0.3817      0.033     11.524      0.000         0.317     0.447\n",
      "CarName[T.BMW 5er III]                               0.0304      0.032      0.936      0.349        -0.033     0.094\n",
      "CarName[T.BMW 5er IV]                                0.0327      0.030      1.096      0.273        -0.026     0.091\n",
      "CarName[T.BMW 5er V]                                 0.1070      0.031      3.411      0.001         0.046     0.169\n",
      "CarName[T.BMW 5er VI]                                0.4150      0.034     12.043      0.000         0.347     0.483\n",
      "CarName[T.Ford Mondeo I]                            -0.8938      0.037    -24.300      0.000        -0.966    -0.822\n",
      "CarName[T.Ford Mondeo II]                           -0.7645      0.031    -24.838      0.000        -0.825    -0.704\n",
      "CarName[T.Ford Mondeo III]                          -0.5240      0.027    -19.612      0.000        -0.576    -0.472\n",
      "CarName[T.Ford Mondeo IV]                           -0.3440      0.029    -11.990      0.000        -0.400    -0.288\n",
      "CarName[T.Ford Mondeo V]                             0.1043      0.036      2.935      0.003         0.035     0.174\n",
      "CarName[T.Honda Accord IV]                          -0.6453      0.050    -12.874      0.000        -0.744    -0.547\n",
      "CarName[T.Honda Accord IX]                           0.1081      0.041      2.627      0.009         0.027     0.189\n",
      "CarName[T.Honda Accord V]                           -0.4305      0.034    -12.847      0.000        -0.496    -0.365\n",
      "CarName[T.Honda Accord VI]                          -0.2214      0.035     -6.272      0.000        -0.291    -0.152\n",
      "CarName[T.Honda Accord VII]                         -0.1287      0.027     -4.704      0.000        -0.182    -0.075\n",
      "CarName[T.Honda Accord VIII]                         0.0059      0.029      0.201      0.841        -0.052     0.064\n",
      "CarName[T.Hyundai Sonata III]                       -0.7672      0.042    -18.345      0.000        -0.849    -0.685\n",
      "CarName[T.Hyundai Sonata IV]                        -0.6439      0.027    -23.974      0.000        -0.697    -0.591\n",
      "CarName[T.Hyundai Sonata V]                         -0.3116      0.031     -9.909      0.000        -0.373    -0.250\n",
      "CarName[T.Hyundai Sonata VI]                        -0.0964      0.034     -2.807      0.005        -0.164    -0.029\n",
      "CarName[T.Hyundai i40 I]                            -0.1514      0.033     -4.575      0.000        -0.216    -0.087\n",
      "CarName[T.Infiniti G III]                           -0.1020      0.049     -2.091      0.037        -0.198    -0.006\n",
      "CarName[T.Infiniti G IV]                             0.0326      0.034      0.968      0.333        -0.033     0.099\n",
      "CarName[T.Kia Optima III]                           -0.0476      0.033     -1.464      0.143        -0.111     0.016\n",
      "CarName[T.Kia Optima IV]                             0.1043      0.042      2.510      0.012         0.023     0.186\n",
      "CarName[T.Mazda 6 I]                                -0.4295      0.026    -16.344      0.000        -0.481    -0.378\n",
      "CarName[T.Mazda 6 II]                               -0.1785      0.028     -6.266      0.000        -0.234    -0.123\n",
      "CarName[T.Mazda 6 III]                               0.0565      0.033      1.712      0.087        -0.008     0.121\n",
      "CarName[T.Nissan Teana I]                           -0.3260      0.029    -11.360      0.000        -0.382    -0.270\n",
      "CarName[T.Nissan Teana II]                          -0.1435      0.031     -4.657      0.000        -0.204    -0.083\n",
      "CarName[T.Nissan Teana III]                          0.0123      0.036      0.343      0.731        -0.058     0.082\n",
      "CarName[T.Opel Insignia I]                          -0.1672      0.032     -5.276      0.000        -0.229    -0.105\n",
      "CarName[T.Toyota Camry III]                         -0.3360      0.049     -6.921      0.000        -0.431    -0.241\n",
      "CarName[T.Toyota Camry IV]                          -0.2788      0.044     -6.304      0.000        -0.366    -0.192\n",
      "CarName[T.Toyota Camry V]                           -0.0219      0.031     -0.706      0.480        -0.083     0.039\n",
      "CarName[T.Toyota Camry VI]                          -0.0294      0.029     -1.031      0.303        -0.085     0.027\n",
      "CarName[T.Toyota Camry VII]                          0.0344      0.032      1.081      0.280        -0.028     0.097\n",
      "CarName[T.Volvo S60 I]                              -0.2670      0.027     -9.879      0.000        -0.320    -0.214\n",
      "CarName[T.Volvo S60 II]                             -0.0083      0.033     -0.254      0.800        -0.072     0.056\n",
      "no_warranty[T.True]                                 -0.0466      0.017     -2.772      0.006        -0.080    -0.014\n",
      "Gear_box[T.Вариатор]                                -0.0417      0.012     -3.344      0.001        -0.066    -0.017\n",
      "Gear_box[T.Механическая]                            -0.0413      0.006     -7.014      0.000        -0.053    -0.030\n",
      "Gear_box[T.Роботизированная с двумя сцеплениями]     0.0380      0.014      2.664      0.008         0.010     0.066\n",
      "Owners_N[T.2]                                       -0.0095      0.005     -1.829      0.067        -0.020     0.001\n",
      "Owners_N[T.3]                                       -0.0230      0.007     -3.468      0.001        -0.036    -0.010\n",
      "Owners_N[T.not mentioned]                           -0.0006      0.005     -0.117      0.907        -0.011     0.009\n",
      "Body_type[T.Купе]                                   -0.3318      0.144     -2.309      0.021        -0.613    -0.050\n",
      "Body_type[T.Лифтбек]                                -0.4413      0.143     -3.092      0.002        -0.721    -0.161\n",
      "Body_type[T.Седан]                                  -0.4603      0.142     -3.235      0.001        -0.739    -0.181\n",
      "Body_type[T.Универсал]                              -0.3587      0.165     -2.175      0.030        -0.682    -0.035\n",
      "Body_type[T.Универсал 5 дв.]                        -0.4142      0.143     -2.905      0.004        -0.694    -0.135\n",
      "Body_type[T.Хэтчбек 5 дв.]                          -0.3787      0.145     -2.620      0.009        -0.662    -0.095\n",
      "Swap_type[T.Рассмотрю варианты]                  -4.878e-05      0.006     -0.008      0.994        -0.012     0.012\n",
      "Swap_type[T.С доплатой покупателя]                  -0.0010      0.012     -0.080      0.936        -0.025     0.023\n",
      "Swap_type[T.С доплатой продавца]                    -0.0031      0.015     -0.199      0.842        -0.033     0.027\n",
      "Wheel_drive_type[T.Передний]                        -0.0113      0.017     -0.685      0.493        -0.044     0.021\n",
      "Wheel_drive_type[T.Полный]                           0.0011      0.013      0.087      0.931        -0.024     0.027\n",
      "Wheel_drive_type[T.Полный подключаемый]              0.0745      0.102      0.731      0.465        -0.125     0.274\n",
      "Wheel_drive_type[T.Полный постоянный]                0.0337      0.022      1.550      0.121        -0.009     0.076\n",
      "person_seller[T.True]                                0.0890      0.005     17.052      0.000         0.079     0.099\n",
      "Engine_fuel_type[T.газ]                             -0.0310      0.142     -0.219      0.827        -0.309     0.247\n",
      "Engine_fuel_type[T.гибрид]                           0.2009      0.064      3.119      0.002         0.075     0.327\n",
      "Engine_fuel_type[T.дизель]                           0.1291      0.009     15.049      0.000         0.112     0.146\n",
      "Car_age                                             -0.0863      0.001    -67.201      0.000        -0.089    -0.084\n",
      "run_km                                           -4.328e-07   4.03e-08    -10.728      0.000     -5.12e-07 -3.54e-07\n",
      "np.log(Engine_capacity)                              0.0114      0.023      0.488      0.626        -0.034     0.057\n",
      "np.log(Engine_hp)                                    0.2494      0.021     11.778      0.000         0.208     0.291\n",
      "Advertising_num_days                                 0.0003   3.37e-05      8.874      0.000         0.000     0.000\n",
      "np.log(Views)                                       -0.0398      0.001    -38.972      0.000        -0.042    -0.038\n",
      "np.log(Last_owner_time_years + 1)                   -0.0242      0.006     -4.235      0.000        -0.035    -0.013\n",
      "np.log(Warranty_end + 1)                             0.0346      0.017      2.005      0.045         0.001     0.068\n",
      "Original_car_passport                               -0.0018      0.010     -0.187      0.852        -0.021     0.017\n",
      "Left_steering                                       -0.0203      0.027     -0.743      0.458        -0.074     0.033\n",
      "is_metallic_color                                   -0.0017      0.004     -0.426      0.670        -0.009     0.006\n",
      "==============================================================================\n",
      "Omnibus:                     1154.881   Durbin-Watson:                   2.027\n",
      "Prob(Omnibus):                  0.000   Jarque-Bera (JB):            20690.201\n",
      "Skew:                          -0.385   Prob(JB):                         0.00\n",
      "Kurtosis:                      11.950   Cond. No.                     3.02e+07\n",
      "==============================================================================\n",
      "\n",
      "Warnings:\n",
      "[1] Standard Errors assume that the covariance matrix of the errors is correctly specified.\n",
      "[2] The condition number is large, 3.02e+07. This might indicate that there are\n",
      "strong multicollinearity or other numerical problems.\n"
     ]
    }
   ],
   "source": [
    "mod2 = sm.ols(formula = mod2_formula, data = dt_train)\n",
    "mod2_res = mod2.fit()\n",
    "print(mod2_res.summary())"
   ]
  },
  {
   "cell_type": "markdown",
   "metadata": {},
   "source": [
    "Estimate out of sample prediction"
   ]
  },
  {
   "cell_type": "code",
   "execution_count": 73,
   "metadata": {
    "collapsed": true
   },
   "outputs": [],
   "source": [
    "def MAPE(y_true, y_pred):\n",
    "    mape = np.sum(np.abs((y_true - y_pred) / y_true) / len(y_true))\n",
    "    return mape"
   ]
  },
  {
   "cell_type": "code",
   "execution_count": 79,
   "metadata": {
    "collapsed": false
   },
   "outputs": [],
   "source": [
    "mod1_mape = MAPE(dt_train['Price_rub'], np.exp(mod1_res.predict(dt_train)))\n",
    "mod2_mape = MAPE(dt_train['Price_rub'], np.exp(mod2_res.predict(dt_train)))"
   ]
  },
  {
   "cell_type": "code",
   "execution_count": 80,
   "metadata": {
    "collapsed": false
   },
   "outputs": [
    {
     "data": {
      "text/plain": [
       "0.10561797295936229"
      ]
     },
     "execution_count": 80,
     "metadata": {},
     "output_type": "execute_result"
    }
   ],
   "source": [
    "mod1_mape"
   ]
  },
  {
   "cell_type": "code",
   "execution_count": 81,
   "metadata": {
    "collapsed": false
   },
   "outputs": [
    {
     "data": {
      "text/plain": [
       "0.09913721783602256"
      ]
     },
     "execution_count": 81,
     "metadata": {},
     "output_type": "execute_result"
    }
   ],
   "source": [
    "mod2_mape"
   ]
  },
  {
   "cell_type": "markdown",
   "metadata": {},
   "source": [
    "We can see that first model which contains basic car features returns pretty good result. Addition some extra features improved forecast but only for 0.65%. MAPE less than 10 % is a nice start and machine learning techniques obviously should improve this solutioun. Otherwise it's useless."
   ]
  },
  {
   "cell_type": "code",
   "execution_count": null,
   "metadata": {
    "collapsed": true
   },
   "outputs": [],
   "source": []
  }
 ],
 "metadata": {
  "kernelspec": {
   "display_name": "Python 3",
   "language": "python",
   "name": "python3"
  },
  "language_info": {
   "codemirror_mode": {
    "name": "ipython",
    "version": 3
   },
   "file_extension": ".py",
   "mimetype": "text/x-python",
   "name": "python",
   "nbconvert_exporter": "python",
   "pygments_lexer": "ipython3",
   "version": "3.5.1"
  }
 },
 "nbformat": 4,
 "nbformat_minor": 0
}
