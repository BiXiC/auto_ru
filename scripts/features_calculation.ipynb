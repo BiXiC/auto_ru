{
 "cells": [
  {
   "cell_type": "code",
   "execution_count": 1,
   "metadata": {
    "collapsed": true
   },
   "outputs": [],
   "source": [
    "import os\n",
    "import pandas as pd\n",
    "pd.set_option('display.max_columns', 500)\n",
    "import numpy as np\n",
    "import re\n",
    "import datetime\n",
    "from sklearn.linear_model import LinearRegression\n",
    "import matplotlib.pyplot as plt\n",
    "%matplotlib inline"
   ]
  },
  {
   "cell_type": "code",
   "execution_count": 2,
   "metadata": {
    "collapsed": false
   },
   "outputs": [
    {
     "data": {
      "text/plain": [
       "['audi_a6_2016_04_13.pickle',\n",
       " 'bmw_5er_2016_04_13.pickle',\n",
       " 'ford_mondeo_2016_04_13.pickle',\n",
       " 'honda_accord_2016_04_13.pickle',\n",
       " 'hyundai_i40_2016_04_13.pickle',\n",
       " 'hyundai_sonata_2016_04_13.pickle',\n",
       " 'infiniti_g35_2016_04_13.pickle',\n",
       " 'kia_optima_2016_04_13.pickle',\n",
       " 'mazda_6_2016_04_13.pickle',\n",
       " 'nissan_teana_2016_04_13.pickle',\n",
       " 'opel_insignia_2016_04_13.pickle',\n",
       " 'toyota_camry_2016_04_13.pickle',\n",
       " 'volvo_s60_2016_04_13.pickle']"
      ]
     },
     "execution_count": 2,
     "metadata": {},
     "output_type": "execute_result"
    }
   ],
   "source": [
    "os.chdir(r\"C:\\Users\\Vasiliy Poteriaev\\Documents\\GitHub\\data\\D_class\")\n",
    "dfs = [f for f in os.listdir() if f.endswith('.pickle')]\n",
    "dfs"
   ]
  },
  {
   "cell_type": "code",
   "execution_count": 3,
   "metadata": {
    "collapsed": false
   },
   "outputs": [],
   "source": [
    "# concantinating car files\n",
    "df = pd.read_pickle(dfs[0])\n",
    "for file in dfs[1:]:\n",
    "    df = pd.concat([df, pd.read_pickle(file)])"
   ]
  },
  {
   "cell_type": "code",
   "execution_count": 4,
   "metadata": {
    "collapsed": false
   },
   "outputs": [],
   "source": [
    "def get_autocod_index(col_names):\n",
    "    for c, i in zip(col_names, range(len(col_names))):\n",
    "        if len(c) > 200:\n",
    "            autocod = i\n",
    "    return autocod\n",
    "\n",
    "cols = list(df.columns)\n",
    "cols[get_autocod_index(cols)] = 'autocode'\n",
    "df.columns = cols"
   ]
  },
  {
   "cell_type": "markdown",
   "metadata": {},
   "source": [
    "# Functions for feature calculations"
   ]
  },
  {
   "cell_type": "code",
   "execution_count": 5,
   "metadata": {
    "collapsed": true
   },
   "outputs": [],
   "source": [
    "def replace_all(text, dic):\n",
    "    for i, j in dic.items():\n",
    "        text = text.replace(i, str(j))\n",
    "    return text\n",
    "\n",
    "\n",
    "def findOccurences(s, ch):\n",
    "    return [i for i, letter in enumerate(s) if letter == ch]\n",
    "\n",
    "def replace_seller_location(df, location_series):\n",
    "    locations = pd.DataFrame(df[location_series].value_counts()).reset_index()\n",
    "    locations = locations[locations['Seller_location'] >= 5]\n",
    "    df.ix[~df.Seller_location.isin(locations['index']),location_series] = 'Москва, прочие адреса'\n",
    "    \n",
    "def get_own_time(text):\n",
    "    if type(text) == str:\n",
    "        #function return owning time of last owner in years\n",
    "\n",
    "        if (re.search('год', text) != None):\n",
    "            match_year = re.search('год', text)\n",
    "            year = float(text[:match_year.start() - 1])\n",
    "        else:\n",
    "            year = 0\n",
    "\n",
    "        if (re.search('месяц', text) != None):\n",
    "            match_month = re.search('месяц', text)\n",
    "            month_end_pos = match_month.start() - 1        \n",
    "\n",
    "            if (re.search(' и ', text) != None):\n",
    "                match_and = re.search(' и ', text)\n",
    "                month_start_pos = match_and.end()\n",
    "            else:\n",
    "                month_start_pos = 0\n",
    "\n",
    "            month = float(text[month_start_pos:month_end_pos])\n",
    "        else:\n",
    "            month = 0\n",
    "        owntime = year + month / 12\n",
    "    else:\n",
    "        owntime = text\n",
    "    return owntime\n",
    "\n",
    "def end_warranty(end_text):\n",
    "    if re.search('До',str(end_text)) != None:\n",
    "        result = pd.to_datetime('01 ' + replace_all(end_text,mon)[3:], format = '%d %m %Y')\n",
    "    else:\n",
    "        result = np.nan\n",
    "    return result\n",
    "\n",
    "def get_engine_capacity(engine):\n",
    "    capacity = np.nan\n",
    "    if engine[:1].isdigit():\n",
    "        match_capacity = re.search(' л', engine)\n",
    "        capacity = float(engine[:match_capacity.start()])\n",
    "        if capacity > 20:\n",
    "            capacity = np.nan\n",
    "    return capacity\n",
    "\n",
    "def get_engine_hp(engine):\n",
    "    hp = np.nan\n",
    "    if sum(c.isdigit() for c in engine) != 0:\n",
    "        if ((re.search('лбензин', engine) == None) & (re.search('лдизель', engine) == None) & \\\n",
    "            (re.search('лгаз', engine) == None) & (re.search('лгибрид', engine) == None)):        \n",
    "\n",
    "            match_hp = re.search('л.с.', engine)\n",
    "\n",
    "            if str(get_engine_capacity(engine)) == 'nan':\n",
    "                start_symbol = 0\n",
    "            else:\n",
    "                match_capacity = re.search(' л', engine)\n",
    "                start_symbol = match_capacity.end() \n",
    "            hp = int(engine[start_symbol:match_hp.start()-1])\n",
    "    return hp\n",
    "\n",
    "def get_engine_fuel_type(engine):\n",
    "    if sum(c.isdigit() for c in engine) != 0:\n",
    "        if re.search('л.с.', engine) != None:\n",
    "            match_hp = re.search('л.с.', engine)\n",
    "            ft = engine[match_hp.end():]\n",
    "        else:\n",
    "            match_hp = re.search(' л', engine)\n",
    "            ft = engine[match_hp.end():]\n",
    "    else:\n",
    "        ft = engine\n",
    "    return ft\n",
    "\n",
    "def get_run(run):\n",
    "    if re.search('км',str(run)) != None:\n",
    "        r = int(run.replace(' км','').replace(' ',''))\n",
    "    else:\n",
    "        r = np.nan\n",
    "    return r\n",
    "\n",
    "def get_metallic_color(col):\n",
    "    res = 0\n",
    "    if type(col) == str:\n",
    "        if ('металлик' in col):\n",
    "            res = 1\n",
    "    return res\n",
    "\n",
    "def get_color(col):\n",
    "    res = np.nan\n",
    "    if type(col) == str:\n",
    "        col = re.sub('\\xa0', '', col)\n",
    "        res = col\n",
    "        if (re.search('металлик', col) != None):\n",
    "            metallic_match = re.search('металлик', col)\n",
    "            res = col[:metallic_match.start()-1]\n",
    "    return res\n",
    "\n",
    "def uppend_to_list(full_list, list_to_uppend):\n",
    "    for el in list_to_uppend:\n",
    "        if el not in full_list:\n",
    "            full_list.append(el)\n",
    "    return full_list"
   ]
  },
  {
   "cell_type": "markdown",
   "metadata": {},
   "source": [
    "## Add date to date format "
   ]
  },
  {
   "cell_type": "code",
   "execution_count": 6,
   "metadata": {
    "collapsed": false
   },
   "outputs": [],
   "source": [
    "mon ={'апреля':4,'марта':3,'февраля':2,'июня':6,'августа':8,'декабря':12,\n",
    "      'ноября':11,'октября':10,'сентября':9,'января':1,'июля':7,'мая':5}"
   ]
  },
  {
   "cell_type": "code",
   "execution_count": 7,
   "metadata": {
    "collapsed": false
   },
   "outputs": [],
   "source": [
    "df['Add date'] = df['Add date'].apply(lambda x: replace_all(x,mon))\n",
    "df['Add date'] = pd.to_datetime(df['Add date'], format = \"%d %m %Y\")"
   ]
  },
  {
   "cell_type": "markdown",
   "metadata": {},
   "source": [
    "## Feature generation"
   ]
  },
  {
   "cell_type": "code",
   "execution_count": 269,
   "metadata": {
    "collapsed": true
   },
   "outputs": [],
   "source": [
    "#age of advertisement\n",
    "df_pr = pd.DataFrame({'Advertising_num_days':(datetime.datetime.now().date()-df['Add date'])/ np.timedelta64(1, 'D')})\n",
    "\n",
    "#extract car base name from 'Brand'\n",
    "df_pr['CarName'] = df['Brand'].apply(lambda x: x[:findOccurences(x, \" \")[2]])\n",
    "\n",
    "#ID\n",
    "df_pr['ID'] = df['ID'].astype(int)\n",
    "\n",
    "#price\n",
    "df_pr['Price_rub'] = df['Price_rub'].astype(int)\n",
    "\n",
    "#if seller is not a company summarize names\n",
    "df_pr['Seller'] = df['Seller']\n",
    "df_pr.loc[df_pr.Seller.apply(lambda x: \"Частное лицо\" in x), 'Seller'] = 'person'\n",
    "\n",
    "sellers =df_pr.groupby('Seller').size().reset_index()\n",
    "sellers = sellers[sellers[0] < 5]\n",
    "\n",
    "df_pr.loc[df_pr.Seller.isin(sellers.Seller), 'Seller'] = 'other dealer'\n",
    "\n",
    "#seller location\n",
    "df_pr['Seller_location'] = df['Seller_location']\n",
    "replace_seller_location(df_pr, 'Seller_location')\n",
    "\n",
    "#Views\n",
    "df_pr['Views'] = df['Views'].astype(int)\n",
    "\n",
    "# car age\n",
    "df_pr['Car_age'] = df['Год выпуска'].apply(lambda x: 2016 - int(x[:4]))\n",
    "#df_pr['CarAge_sq'] = df['Год выпуска'].apply(lambda x: (2016 - int(x[:4])) ** 2)\n",
    "# gear box type\n",
    "df_pr['Gear_box'] = df['Коробка']\n",
    "# parsing date\n",
    "df_pr['Parsing date'] = pd.to_datetime(df['Parsing date'], format = '%Y-%m-%d')\n",
    "\n",
    "#autocode\n",
    "df_pr['Autocode_checked'] =  df['autocode']\n",
    "df_pr.ix[~df_pr.Autocode_checked.isnull(),'Autocode_checked'] = 1\n",
    "df_pr.Autocode_checked = df_pr.Autocode_checked.fillna(0)\n",
    "\n",
    "#previous owners number\n",
    "df_pr['Owners_N'] = df['Владельцы']\n",
    "df_pr['Owners_N'] = df_pr['Owners_N'].fillna('x')\n",
    "df_pr['Owners_N'] = df_pr['Owners_N'].apply(lambda x: x[:1])\n",
    "df_pr.ix[df_pr.Owners_N == 'x','Owners_N'] = 'not mentioned'\n",
    "\n",
    "#owning time of previous owner\n",
    "df_pr['Last_owner_time_years'] = df['Владение'].apply(get_own_time)\n",
    "df_pr['Last_owner_time_years'] = df_pr['Last_owner_time_years'].fillna(df_pr['Last_owner_time_years'].median())\n",
    "\n",
    "df_pr['Warranty_end'] = df['Гарантия'].apply(end_warranty)\n",
    "df_pr.ix[~df_pr['Warranty_end'].isnull(), 'Warranty_end'] =(df_pr.ix[~df_pr['Warranty_end'].isnull(), 'Warranty_end'] - \\\n",
    "                                                            df_pr.ix[~df_pr['Warranty_end'].isnull(), 'Parsing date']) \\\n",
    "                                                            / np.timedelta64(1, 'Y')\n",
    "df_pr['Warranty_end'] = df_pr['Warranty_end'].fillna(0)\n",
    "df_pr.ix[df_pr['Warranty_end'] < 0,'Warranty_end'] = 0\n",
    "\n",
    "\n",
    "# get engine characteristics\n",
    "df_pr['Engine_capacity'] = df['Двигатель'].apply(get_engine_capacity)\n",
    "df_pr['Engine_hp'] = df['Двигатель'].apply(get_engine_hp)\n",
    "df_pr['Engine_fuel_type'] = df['Двигатель'].apply(get_engine_fuel_type)\n",
    "\n",
    "# get body typeэ\n",
    "df_pr['Body_type'] = df['Кузов']\n",
    "\n",
    "# swap type\n",
    "df_pr['Swap_type'] = df['Обмен']\n",
    "df_pr['Swap_type'] = df_pr['Swap_type'].fillna('Не интересует')\n",
    "\n",
    "# original car passport\n",
    "df_pr['Original_car_passport'] = df['ПТС'].replace({'Оригинал':1,'Дубликат':0})\n",
    "df_pr['Original_car_passport'] = df_pr['Original_car_passport'].fillna(1)\n",
    "\n",
    "# wheel drive type\n",
    "df_pr['Wheel_drive_type'] = df['Привод']\n",
    "\n",
    "# get car run, km\n",
    "df_pr['run_km'] = df['Пробег'].apply(get_run)"
   ]
  },
  {
   "cell_type": "code",
   "execution_count": 270,
   "metadata": {
    "collapsed": true
   },
   "outputs": [],
   "source": [
    "# fill na for engine capacity and engine horse power\n",
    "# if only one value is missing then let paste forecasted value from linear model\n",
    "hp_V_clf = LinearRegression()\n",
    "hpV = df_pr[['Engine_capacity','Engine_hp']]\n",
    "hpV = hpV[(~hpV['Engine_capacity'].isnull()) & (~hpV['Engine_hp'].isnull())]\n",
    "hp_V_clf.fit(hpV[['Engine_capacity']],hpV['Engine_hp'])\n",
    "hpV['Predicted_hp'] = hp_V_clf.predict(hpV[['Engine_capacity']])\n",
    "\n",
    "def V_hp_convertor(V):\n",
    "    hp = hp_V_clf.intercept_ + hp_V_clf.coef_[0]\n",
    "    return hp\n",
    "def hp_V_convertor(hp):\n",
    "    V = (hp - hp_V_clf.intercept_) /  hp_V_clf.coef_[0]\n",
    "    return V\n",
    "\n",
    "# select rows wich has V and has not hp\n",
    "cond_Vhp = (~df_pr['Engine_capacity'].isnull()) & df_pr['Engine_hp'].isnull()\n",
    "df_pr.ix[cond_Vhp,'Engine_hp'] = df_pr.ix[cond_Vhp,'Engine_capacity'].apply(V_hp_convertor)\n",
    "\n",
    "# vice versa\n",
    "cond_hpV = (df_pr['Engine_capacity'].isnull()) & (~df_pr['Engine_hp'].isnull())\n",
    "df_pr.ix[cond_hpV,'Engine_capacity'] = df_pr.ix[cond_hpV,'Engine_hp'].apply(hp_V_convertor)\n",
    "\n",
    "# rows wich has no both V and hp fill with mean values\n",
    "df_pr['Engine_capacity'] = df_pr['Engine_capacity'].fillna(df_pr['Engine_capacity'].mean())\n",
    "df_pr['Engine_hp'] = df_pr['Engine_hp'].fillna(df_pr['Engine_hp'].mean())"
   ]
  },
  {
   "cell_type": "code",
   "execution_count": 271,
   "metadata": {
    "collapsed": false
   },
   "outputs": [
    {
     "data": {
      "text/plain": [
       "<matplotlib.axes._subplots.AxesSubplot at 0x293be021358>"
      ]
     },
     "execution_count": 271,
     "metadata": {},
     "output_type": "execute_result"
    },
    {
     "data": {
      "image/png": "[encoded data removed]",
      "text/plain": [
       "<matplotlib.figure.Figure at 0x293be021da0>"
      ]
     },
     "metadata": {},
     "output_type": "display_data"
    }
   ],
   "source": [
    "# estimate mean run for car age\n",
    "mean_run = df_pr.groupby(['Car_age'])['run_km'].mean().reset_index()\n",
    "mean_run['Car_age2'] = mean_run['Car_age'] ** 2\n",
    "mean_run = mean_run[mean_run['Car_age'] <= 25]\n",
    "run_clf = LinearRegression()\n",
    "run_clf.fit(mean_run[['Car_age','Car_age2']],mean_run['run_km'])\n",
    "\n",
    "# replace negative run forecast to zero\n",
    "mean_run['predicted'] = run_clf.predict(mean_run[['Car_age','Car_age2']])\n",
    "mean_run.ix[mean_run['predicted'] < 0, 'predicted'] = 0\n",
    "\n",
    "mean_run.plot('Car_age',['run_km','predicted'])"
   ]
  },
  {
   "cell_type": "code",
   "execution_count": 272,
   "metadata": {
    "collapsed": false
   },
   "outputs": [],
   "source": [
    "age = df_pr.ix[df_pr['run_km'].isnull(), 'Car_age']\n",
    "df_pr.ix[df_pr['run_km'].isnull(), 'run_km'] = run_clf.intercept_ + run_clf.coef_[0] * age + run_clf.coef_[1] * age ** 2\n",
    "df_pr.ix[df_pr['run_km'] < 0, 'run_km'] = 0\n",
    "\n",
    "# steering wheel side\n",
    "df_pr['Left_steering'] = df['Руль'].replace({'Левый':1,'Правый':0})\n",
    "df_pr['Left_steering'] = df_pr['Left_steering'].fillna(1)\n",
    "\n",
    "# metallic color\n",
    "df_pr['is_metallic_color'] = df['Цвет'].apply(get_metallic_color)\n",
    "df_pr['is_metallic_color'] = df_pr['is_metallic_color'].fillna(1)\n",
    "\n",
    "# color\n",
    "df_pr['Color'] = df['Цвет'].apply(get_color)\n",
    "df_pr['Color'] = df_pr['Color'].fillna('Цвет не указан')\n",
    "\n",
    "# url \n",
    "df_pr['URL'] = df['URL']\n",
    "\n",
    "#"
   ]
  },
  {
   "cell_type": "code",
   "execution_count": 273,
   "metadata": {
    "collapsed": true
   },
   "outputs": [],
   "source": [
    "# create list with car complectation options\n",
    "options_list = []\n",
    "for car_options in df['complectation']:\n",
    "    uppend_to_list(options_list, car_options)\n",
    "\n",
    "# add option dummy to dataframe\n",
    "for option in options_list:\n",
    "    df_pr['Opt_' + option] = df['complectation'].apply(lambda x: int(option in x))"
   ]
  },
  {
   "cell_type": "code",
   "execution_count": 274,
   "metadata": {
    "collapsed": true
   },
   "outputs": [],
   "source": [
    "df_pr = df_pr.reset_index()\n",
    "del df_pr['index']"
   ]
  },
  {
   "cell_type": "code",
   "execution_count": 275,
   "metadata": {
    "collapsed": true
   },
   "outputs": [],
   "source": [
    "parsing_date = df['Parsing date'].head(1)[0]"
   ]
  },
  {
   "cell_type": "code",
   "execution_count": null,
   "metadata": {
    "collapsed": true
   },
   "outputs": [],
   "source": [
    "df_pr.to_csv('C:/Users/Vasiliy Poteriaev/Documents/GitHub/processed data/auto_matrix_' + parsing_date + '.csv',sep=';')\n",
    "df_pr.to_pickle('C:/Users/Vasiliy Poteriaev/Documents/GitHub/processed data/auto_matrix_' + parsing_date + '.pickle')"
   ]
  },
  {
   "cell_type": "code",
   "execution_count": null,
   "metadata": {
    "collapsed": true
   },
   "outputs": [],
   "source": []
  },
  {
   "cell_type": "code",
   "execution_count": 14,
   "metadata": {
    "collapsed": false
   },
   "outputs": [
    {
     "data": {
      "text/html": [
       "<div>\n",
       "<table border=\"1\" class=\"dataframe\">\n",
       "  <thead>\n",
       "    <tr style=\"text-align: right;\">\n",
       "      <th></th>\n",
       "      <th>Add date</th>\n",
       "      <th>Brand</th>\n",
       "      <th>ID</th>\n",
       "      <th>Parsing date</th>\n",
       "      <th>Price_rub</th>\n",
       "      <th>Seller</th>\n",
       "      <th>Seller_location</th>\n",
       "      <th>URL</th>\n",
       "      <th>VIN</th>\n",
       "      <th>Views</th>\n",
       "      <th>comment</th>\n",
       "      <th>complectation</th>\n",
       "      <th>autocode</th>\n",
       "      <th>Владельцы</th>\n",
       "      <th>Владение</th>\n",
       "      <th>Гарантия</th>\n",
       "      <th>Год выпуска</th>\n",
       "      <th>Двигатель</th>\n",
       "      <th>Коробка</th>\n",
       "      <th>Кузов</th>\n",
       "      <th>Обмен</th>\n",
       "      <th>ПТС</th>\n",
       "      <th>Привод</th>\n",
       "      <th>Пробег</th>\n",
       "      <th>Руль</th>\n",
       "      <th>Состояние</th>\n",
       "      <th>Статус</th>\n",
       "      <th>Таможня</th>\n",
       "      <th>Цвет</th>\n",
       "    </tr>\n",
       "  </thead>\n",
       "  <tbody>\n",
       "    <tr>\n",
       "      <th>26</th>\n",
       "      <td>2016-04-10</td>\n",
       "      <td>Hyundai i40 I Рестайлинг в Москве</td>\n",
       "      <td>1034810769</td>\n",
       "      <td>2016-04-13</td>\n",
       "      <td>1152000</td>\n",
       "      <td>КВИСТ/ООО \"Соларис-М\"</td>\n",
       "      <td>Москва, Мытищи, Волковское шоссе, вл. 17</td>\n",
       "      <td>https://auto.ru/cars/new/sale/1034810769-179bf1/</td>\n",
       "      <td>XWELC41C*G0****57</td>\n",
       "      <td>13019</td>\n",
       "      <td>Гарантия 5 лет либо 120 000км пробега.\\r1 год ...</td>\n",
       "      <td>[Обивка салона: ткань, Цвет салона: темный, То...</td>\n",
       "      <td>NaN</td>\n",
       "      <td>NaN</td>\n",
       "      <td>NaN</td>\n",
       "      <td>До мая 2021</td>\n",
       "      <td>2015, новый</td>\n",
       "      <td>2.0 л150 л.с.бензин</td>\n",
       "      <td>Автоматическая</td>\n",
       "      <td>Седан</td>\n",
       "      <td>NaN</td>\n",
       "      <td>NaN</td>\n",
       "      <td>Передний</td>\n",
       "      <td>NaN</td>\n",
       "      <td>Левый</td>\n",
       "      <td>NaN</td>\n",
       "      <td>NaN</td>\n",
       "      <td>Растаможен</td>\n",
       "      <td>Белый</td>\n",
       "    </tr>\n",
       "  </tbody>\n",
       "</table>\n",
       "</div>"
      ],
      "text/plain": [
       "     Add date                              Brand          ID Parsing date  \\\n",
       "26 2016-04-10  Hyundai i40 I Рестайлинг в Москве  1034810769   2016-04-13   \n",
       "\n",
       "   Price_rub                 Seller                           Seller_location  \\\n",
       "26   1152000  КВИСТ/ООО \"Соларис-М\"  Москва, Мытищи, Волковское шоссе, вл. 17   \n",
       "\n",
       "                                                 URL                VIN  \\\n",
       "26  https://auto.ru/cars/new/sale/1034810769-179bf1/  XWELC41C*G0****57   \n",
       "\n",
       "    Views                                            comment  \\\n",
       "26  13019  Гарантия 5 лет либо 120 000км пробега.\\r1 год ...   \n",
       "\n",
       "                                        complectation autocode Владельцы  \\\n",
       "26  [Обивка салона: ткань, Цвет салона: темный, То...      NaN       NaN   \n",
       "\n",
       "   Владение     Гарантия  Год выпуска            Двигатель         Коробка  \\\n",
       "26      NaN  До мая 2021  2015, новый  2.0 л150 л.с.бензин  Автоматическая   \n",
       "\n",
       "    Кузов Обмен  ПТС    Привод Пробег   Руль Состояние Статус     Таможня  \\\n",
       "26  Седан   NaN  NaN  Передний    NaN  Левый       NaN    NaN  Растаможен   \n",
       "\n",
       "      Цвет  \n",
       "26  Белый   "
      ]
     },
     "execution_count": 14,
     "metadata": {},
     "output_type": "execute_result"
    }
   ],
   "source": [
    "df[df['ID'] == '1034810769']"
   ]
  },
  {
   "cell_type": "code",
   "execution_count": null,
   "metadata": {
    "collapsed": true
   },
   "outputs": [],
   "source": []
  }
 ],
 "metadata": {
  "kernelspec": {
   "display_name": "Python 3",
   "language": "python",
   "name": "python3"
  },
  "language_info": {
   "codemirror_mode": {
    "name": "ipython",
    "version": 3
   },
   "file_extension": ".py",
   "mimetype": "text/x-python",
   "name": "python",
   "nbconvert_exporter": "python",
   "pygments_lexer": "ipython3",
   "version": "3.5.1"
  }
 },
 "nbformat": 4,
 "nbformat_minor": 0
}
