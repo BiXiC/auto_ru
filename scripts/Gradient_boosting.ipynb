{
 "cells": [
  {
   "cell_type": "code",
   "execution_count": 76,
   "metadata": {
    "collapsed": true
   },
   "outputs": [],
   "source": [
    "import time\n",
    "import datetime\n",
    "import sklearn\n",
    "import pandas as pd\n",
    "import numpy as np\n",
    "from sklearn.cross_validation import KFold, cross_val_score\n",
    "from sklearn.grid_search import GridSearchCV\n",
    "from sklearn.ensemble import GradientBoostingRegressor\n",
    "pd.set_option('display.max_columns', 500)\n",
    "from sklearn.cross_validation import train_test_split\n",
    "import matplotlib.pyplot as plt\n",
    "%matplotlib inline\n",
    "from joblib import Parallel, delayed"
   ]
  },
  {
   "cell_type": "code",
   "execution_count": 118,
   "metadata": {
    "collapsed": true
   },
   "outputs": [],
   "source": [
    "# get data\n",
    "dt_path = 'dt.pickle'\n",
    "dt = pd.read_pickle(dt_path)\n",
    "\n",
    "# add some logs of features to the matrix \n",
    "dt['log_Views'] = np.log(dt['Views']+1)\n",
    "dt['log_Car_age'] = np.log(dt['Car_age']+1)\n",
    "dt['log_Warranty_end'] = np.log(dt['Warranty_end'] + 1)\n",
    "dt['log_Engine_capacity'] = np.log(dt['Engine_capacity'])\n",
    "dt['log_Engine_hp'] = np.log(dt['Engine_hp'])\n",
    "dt['log_run_km'] = np.log(dt['run_km']+1)\n",
    "\n",
    "y = np.log(dt['Price_rub'])\n",
    "X = dt\n",
    "del X['Price_rub'], X['ID'], X['Parsing date']"
   ]
  },
  {
   "cell_type": "code",
   "execution_count": 119,
   "metadata": {
    "collapsed": true
   },
   "outputs": [],
   "source": [
    "# one hot encoding\n",
    "X = pd.get_dummies(X)\n",
    "\n",
    "#split data to train and test\n",
    "X_train, X_test, y_train, y_test = train_test_split(X, y,test_size=0.2, random_state=777, stratify = dt['CarName'])\n",
    "\n",
    "def MAPE(y_true, y_pred):\n",
    "    mape = np.sum(np.abs((y_true - y_pred) / y_true) / len(y_true))\n",
    "    return mape"
   ]
  },
  {
   "cell_type": "code",
   "execution_count": 120,
   "metadata": {
    "collapsed": false
   },
   "outputs": [
    {
     "name": "stdout",
     "output_type": "stream",
     "text": [
      "100\n",
      "500\n",
      "1000\n",
      "1750\n",
      "2000\n",
      "2250\n",
      "2500\n",
      "3000\n"
     ]
    }
   ],
   "source": [
    "# run grid search for optimal number of trees\n",
    "\n",
    "gb_result = pd.DataFrame(columns = {'number_of_trees','metric','learning_time'})\n",
    "\n",
    "metric_list = []\n",
    "elapsed_time_list = []\n",
    "    \n",
    "for num_trees in [100,500,1000,1750,2000,2250,2500,3000]:\n",
    "\n",
    "    clf = GradientBoostingRegressor(n_estimators=num_trees)\n",
    "\n",
    "    start_time = datetime.datetime.now()\n",
    "    clf.fit(X_train, y_train)\n",
    "    elapsed_time = datetime.datetime.now() - start_time\n",
    "\n",
    "    predictions = clf.predict(X_test)\n",
    "    metric = MAPE(np.exp(y_test), np.exp(predictions))\n",
    "    metric_list.append(metric)\n",
    "    \n",
    "    gb_result = pd.concat([gb_result, pd.DataFrame({'number_of_trees' : [num_trees], \n",
    "                                                    'metric' : [np.mean(metric_list)], \n",
    "                                                    'learning_time':[elapsed_time]})])\n",
    "    print(num_trees)"
   ]
  },
  {
   "cell_type": "code",
   "execution_count": 121,
   "metadata": {
    "collapsed": false
   },
   "outputs": [
    {
     "data": {
      "text/html": [
       "<div>\n",
       "<table border=\"1\" class=\"dataframe\">\n",
       "  <thead>\n",
       "    <tr style=\"text-align: right;\">\n",
       "      <th></th>\n",
       "      <th>learning_time</th>\n",
       "      <th>metric</th>\n",
       "      <th>number_of_trees</th>\n",
       "    </tr>\n",
       "  </thead>\n",
       "  <tbody>\n",
       "    <tr>\n",
       "      <th>0</th>\n",
       "      <td>00:00:06.665436</td>\n",
       "      <td>0.112597</td>\n",
       "      <td>100.0</td>\n",
       "    </tr>\n",
       "    <tr>\n",
       "      <th>0</th>\n",
       "      <td>00:00:25.866338</td>\n",
       "      <td>0.102247</td>\n",
       "      <td>500.0</td>\n",
       "    </tr>\n",
       "    <tr>\n",
       "      <th>0</th>\n",
       "      <td>00:00:49.434382</td>\n",
       "      <td>0.097744</td>\n",
       "      <td>1000.0</td>\n",
       "    </tr>\n",
       "    <tr>\n",
       "      <th>0</th>\n",
       "      <td>00:01:28.022389</td>\n",
       "      <td>0.095219</td>\n",
       "      <td>1750.0</td>\n",
       "    </tr>\n",
       "    <tr>\n",
       "      <th>0</th>\n",
       "      <td>00:01:41.723765</td>\n",
       "      <td>0.093683</td>\n",
       "      <td>2000.0</td>\n",
       "    </tr>\n",
       "    <tr>\n",
       "      <th>0</th>\n",
       "      <td>00:01:54.867320</td>\n",
       "      <td>0.092658</td>\n",
       "      <td>2250.0</td>\n",
       "    </tr>\n",
       "    <tr>\n",
       "      <th>0</th>\n",
       "      <td>00:02:07.079947</td>\n",
       "      <td>0.091952</td>\n",
       "      <td>2500.0</td>\n",
       "    </tr>\n",
       "    <tr>\n",
       "      <th>0</th>\n",
       "      <td>00:02:34.571915</td>\n",
       "      <td>0.091415</td>\n",
       "      <td>3000.0</td>\n",
       "    </tr>\n",
       "  </tbody>\n",
       "</table>\n",
       "</div>"
      ],
      "text/plain": [
       "    learning_time    metric  number_of_trees\n",
       "0 00:00:06.665436  0.112597            100.0\n",
       "0 00:00:25.866338  0.102247            500.0\n",
       "0 00:00:49.434382  0.097744           1000.0\n",
       "0 00:01:28.022389  0.095219           1750.0\n",
       "0 00:01:41.723765  0.093683           2000.0\n",
       "0 00:01:54.867320  0.092658           2250.0\n",
       "0 00:02:07.079947  0.091952           2500.0\n",
       "0 00:02:34.571915  0.091415           3000.0"
      ]
     },
     "execution_count": 121,
     "metadata": {},
     "output_type": "execute_result"
    }
   ],
   "source": [
    "gb_result"
   ]
  },
  {
   "cell_type": "code",
   "execution_count": 122,
   "metadata": {
    "collapsed": false
   },
   "outputs": [
    {
     "data": {
      "text/plain": [
       "<matplotlib.axes._subplots.AxesSubplot at 0x7f8adf379e10>"
      ]
     },
     "execution_count": 122,
     "metadata": {},
     "output_type": "execute_result"
    },
    {
     "data": {
      "image/png": "[encoded data removed]",
      "text/plain": [
       "<matplotlib.figure.Figure at 0x7f8adeded438>"
      ]
     },
     "metadata": {},
     "output_type": "display_data"
    },
    {
     "data": {
      "image/png": "[encoded data removed]",
      "text/plain": [
       "<matplotlib.figure.Figure at 0x7f8ae2ac56d8>"
      ]
     },
     "metadata": {},
     "output_type": "display_data"
    }
   ],
   "source": [
    "#plot results\n",
    "gb_result.plot('number_of_trees','metric')\n",
    "gb_result['learning_time_min'] = gb_result['learning_time'] / np.timedelta64(1,'m')\n",
    "gb_result.plot('number_of_trees','learning_time_min')"
   ]
  },
  {
   "cell_type": "code",
   "execution_count": null,
   "metadata": {
    "collapsed": true
   },
   "outputs": [],
   "source": []
  }
 ],
 "metadata": {
  "kernelspec": {
   "display_name": "Python 3",
   "language": "python",
   "name": "python3"
  },
  "language_info": {
   "codemirror_mode": {
    "name": "ipython",
    "version": 3
   },
   "file_extension": ".py",
   "mimetype": "text/x-python",
   "name": "python",
   "nbconvert_exporter": "python",
   "pygments_lexer": "ipython3",
   "version": "3.5.1"
  }
 },
 "nbformat": 4,
 "nbformat_minor": 0
}
