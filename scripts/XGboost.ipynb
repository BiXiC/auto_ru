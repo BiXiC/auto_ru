{
 "cells": [
  {
   "cell_type": "code",
   "execution_count": 51,
   "metadata": {
    "collapsed": true
   },
   "outputs": [],
   "source": [
    "import xgboost as xgb\n",
    "import pandas as pd\n",
    "import numpy as np\n",
    "from sklearn.cross_validation import train_test_split\n",
    "import datetime\n",
    "import matplotlib.pyplot as plt\n",
    "%matplotlib inline"
   ]
  },
  {
   "cell_type": "code",
   "execution_count": 16,
   "metadata": {
    "collapsed": false
   },
   "outputs": [],
   "source": [
    "# get data\n",
    "dt_path = 'dt.pickle'\n",
    "dt = pd.read_pickle(dt_path)\n",
    "\n",
    "# add some logs of features to the matrix \n",
    "dt['log_Views'] = np.log(dt['Views']+1)\n",
    "dt['log_Car_age'] = np.log(dt['Car_age']+1)\n",
    "dt['log_Warranty_end'] = np.log(dt['Warranty_end'] + 1)\n",
    "dt['log_Engine_capacity'] = np.log(dt['Engine_capacity'])\n",
    "dt['log_Engine_hp'] = np.log(dt['Engine_hp'])\n",
    "dt['log_run_km'] = np.log(dt['run_km']+1)\n",
    "\n",
    "y = np.log(dt['Price_rub'])\n",
    "X = dt\n",
    "del X['Price_rub'], X['ID'], X['Parsing date']\n",
    "\n",
    "# one hot encoding\n",
    "X = pd.get_dummies(X)\n",
    "\n",
    "#split data to train and test\n",
    "X_train, X_test, y_train, y_test = train_test_split(X, y,test_size=0.2, random_state=777, stratify = dt['CarName'])\n",
    "\n",
    "def MAPE(y_true, y_pred):\n",
    "    mape = np.sum(np.abs((y_true - y_pred) / y_true) / len(y_true))\n",
    "    return mape"
   ]
  },
  {
   "cell_type": "code",
   "execution_count": 24,
   "metadata": {
    "collapsed": true
   },
   "outputs": [],
   "source": [
    "dtrain = xgb.DMatrix(X_train.as_matrix(), label = y_train.as_matrix())\n",
    "dtest = xgb.DMatrix(X_test.as_matrix(), label = y_test.as_matrix())"
   ]
  },
  {
   "cell_type": "code",
   "execution_count": 30,
   "metadata": {
    "collapsed": true
   },
   "outputs": [],
   "source": [
    "param = {'bst:max_depth':2, 'bst:eta':1, 'silent':1, 'objective':'reg:linear' }\n",
    "param['nthread'] = 4\n",
    "param['eval_metric'] = 'mae'\n",
    "evallist  = [(dtest,'eval'), (dtrain,'train')]"
   ]
  },
  {
   "cell_type": "code",
   "execution_count": 57,
   "metadata": {
    "collapsed": false
   },
   "outputs": [
    {
     "name": "stdout",
     "output_type": "stream",
     "text": [
      "num_round:  10 , MAPE:  0.30475147670481684 , Elapsed Time:  0:00:00.978488\n",
      "num_round:  20 , MAPE:  0.1070579307384134 , Elapsed Time:  0:00:02.096285\n",
      "num_round:  50 , MAPE:  0.09438783486615455 , Elapsed Time:  0:00:05.461726\n",
      "num_round:  100 , MAPE:  0.09153757939348109 , Elapsed Time:  0:00:11.088309\n",
      "num_round:  200 , MAPE:  0.09083819969709854 , Elapsed Time:  0:00:22.296274\n",
      "num_round:  300 , MAPE:  0.09054027841220963 , Elapsed Time:  0:00:33.499146\n",
      "num_round:  500 , MAPE:  0.09052223265623367 , Elapsed Time:  0:00:55.937702\n",
      "num_round:  1000 , MAPE:  0.09049748726398033 , Elapsed Time:  0:01:51.875747\n",
      "num_round:  1200 , MAPE:  0.0905320853824699 , Elapsed Time:  0:02:13.004519\n",
      "num_round:  1400 , MAPE:  0.0905320853824699 , Elapsed Time:  0:02:17.756964\n"
     ]
    }
   ],
   "source": [
    "# training\n",
    "\n",
    "xgb_result = pd.DataFrame(columns = {'num_round','metric','learning_time'})\n",
    "\n",
    "metric_list = []\n",
    "elapsed_time_list = []\n",
    "\n",
    "for num_round in [10,20,50,100,200,300,500,1000,1200,1400]:\n",
    "    start_time = datetime.datetime.now()\n",
    "    bst = xgb.train( param, dtrain, num_round, evallist )\n",
    "    elapsed_time = datetime.datetime.now() - start_time\n",
    "\n",
    "    ypred = bst.predict(dtest)\n",
    "    mape = MAPE(np.exp(y_test),np.exp(ypred))\n",
    "    \n",
    "    xgb_result = pd.concat([xgb_result, pd.DataFrame({'num_round' : [num_round],\n",
    "                                                      'metric' : [mape],\n",
    "                                                      'learning_time':[elapsed_time]})])\n",
    "    print('num_round:',str(num_round),'MAPE:',str(mape),'Elapsed Time:',elapsed_time)"
   ]
  },
  {
   "cell_type": "code",
   "execution_count": 63,
   "metadata": {
    "collapsed": false
   },
   "outputs": [
    {
     "data": {
      "text/html": [
       "<div>\n",
       "<table border=\"1\" class=\"dataframe\">\n",
       "  <thead>\n",
       "    <tr style=\"text-align: right;\">\n",
       "      <th></th>\n",
       "      <th>learning_time</th>\n",
       "      <th>metric</th>\n",
       "      <th>num_round</th>\n",
       "      <th>learning_time_min</th>\n",
       "    </tr>\n",
       "  </thead>\n",
       "  <tbody>\n",
       "    <tr>\n",
       "      <th>0</th>\n",
       "      <td>00:00:00.978488</td>\n",
       "      <td>0.304751</td>\n",
       "      <td>10.0</td>\n",
       "      <td>0.016308</td>\n",
       "    </tr>\n",
       "    <tr>\n",
       "      <th>0</th>\n",
       "      <td>00:00:02.096285</td>\n",
       "      <td>0.107058</td>\n",
       "      <td>20.0</td>\n",
       "      <td>0.034938</td>\n",
       "    </tr>\n",
       "    <tr>\n",
       "      <th>0</th>\n",
       "      <td>00:00:05.461726</td>\n",
       "      <td>0.094388</td>\n",
       "      <td>50.0</td>\n",
       "      <td>0.091029</td>\n",
       "    </tr>\n",
       "    <tr>\n",
       "      <th>0</th>\n",
       "      <td>00:00:11.088309</td>\n",
       "      <td>0.091538</td>\n",
       "      <td>100.0</td>\n",
       "      <td>0.184805</td>\n",
       "    </tr>\n",
       "    <tr>\n",
       "      <th>0</th>\n",
       "      <td>00:00:22.296274</td>\n",
       "      <td>0.090838</td>\n",
       "      <td>200.0</td>\n",
       "      <td>0.371605</td>\n",
       "    </tr>\n",
       "    <tr>\n",
       "      <th>0</th>\n",
       "      <td>00:00:33.499146</td>\n",
       "      <td>0.090540</td>\n",
       "      <td>300.0</td>\n",
       "      <td>0.558319</td>\n",
       "    </tr>\n",
       "    <tr>\n",
       "      <th>0</th>\n",
       "      <td>00:00:55.937702</td>\n",
       "      <td>0.090522</td>\n",
       "      <td>500.0</td>\n",
       "      <td>0.932295</td>\n",
       "    </tr>\n",
       "    <tr>\n",
       "      <th>0</th>\n",
       "      <td>00:01:51.875747</td>\n",
       "      <td>0.090497</td>\n",
       "      <td>1000.0</td>\n",
       "      <td>1.864596</td>\n",
       "    </tr>\n",
       "    <tr>\n",
       "      <th>0</th>\n",
       "      <td>00:02:13.004519</td>\n",
       "      <td>0.090532</td>\n",
       "      <td>1200.0</td>\n",
       "      <td>2.216742</td>\n",
       "    </tr>\n",
       "    <tr>\n",
       "      <th>0</th>\n",
       "      <td>00:02:17.756964</td>\n",
       "      <td>0.090532</td>\n",
       "      <td>1400.0</td>\n",
       "      <td>2.295949</td>\n",
       "    </tr>\n",
       "  </tbody>\n",
       "</table>\n",
       "</div>"
      ],
      "text/plain": [
       "    learning_time    metric  num_round  learning_time_min\n",
       "0 00:00:00.978488  0.304751       10.0           0.016308\n",
       "0 00:00:02.096285  0.107058       20.0           0.034938\n",
       "0 00:00:05.461726  0.094388       50.0           0.091029\n",
       "0 00:00:11.088309  0.091538      100.0           0.184805\n",
       "0 00:00:22.296274  0.090838      200.0           0.371605\n",
       "0 00:00:33.499146  0.090540      300.0           0.558319\n",
       "0 00:00:55.937702  0.090522      500.0           0.932295\n",
       "0 00:01:51.875747  0.090497     1000.0           1.864596\n",
       "0 00:02:13.004519  0.090532     1200.0           2.216742\n",
       "0 00:02:17.756964  0.090532     1400.0           2.295949"
      ]
     },
     "execution_count": 63,
     "metadata": {},
     "output_type": "execute_result"
    }
   ],
   "source": [
    "xgb_result"
   ]
  },
  {
   "cell_type": "code",
   "execution_count": 64,
   "metadata": {
    "collapsed": false
   },
   "outputs": [
    {
     "data": {
      "text/plain": [
       "<matplotlib.axes._subplots.AxesSubplot at 0x7f5bd63dfb38>"
      ]
     },
     "execution_count": 64,
     "metadata": {},
     "output_type": "execute_result"
    },
    {
     "data": {
      "image/png": "[encoded data removed]",
      "text/plain": [
       "<matplotlib.figure.Figure at 0x7f5bbb939be0>"
      ]
     },
     "metadata": {},
     "output_type": "display_data"
    },
    {
     "data": {
      "image/png": "[encoded data removed]",
      "text/plain": [
       "<matplotlib.figure.Figure at 0x7f5bbb939d68>"
      ]
     },
     "metadata": {},
     "output_type": "display_data"
    }
   ],
   "source": [
    "#plot results\n",
    "xgb_result[xgb_result['num_round'] > 10].plot('num_round','metric')\n",
    "xgb_result['learning_time_min'] = xgb_result['learning_time'] / np.timedelta64(1,'m')\n",
    "xgb_result.plot('num_round','learning_time_min')"
   ]
  },
  {
   "cell_type": "code",
   "execution_count": null,
   "metadata": {
    "collapsed": true
   },
   "outputs": [],
   "source": []
  }
 ],
 "metadata": {
  "kernelspec": {
   "display_name": "Python 3",
   "language": "python",
   "name": "python3"
  },
  "language_info": {
   "codemirror_mode": {
    "name": "ipython",
    "version": 3
   },
   "file_extension": ".py",
   "mimetype": "text/x-python",
   "name": "python",
   "nbconvert_exporter": "python",
   "pygments_lexer": "ipython3",
   "version": "3.5.1"
  }
 },
 "nbformat": 4,
 "nbformat_minor": 0
}
